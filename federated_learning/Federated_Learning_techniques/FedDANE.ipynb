{
 "cells": [
  {
   "cell_type": "code",
   "execution_count": null,
   "id": "9a3e3071",
   "metadata": {},
   "outputs": [],
   "source": [
    "import torch\n",
    "import torch.nn as nn\n",
    "import torch.nn.functional as F\n",
    "import torch.optim as optim\n",
    "from torchvision import datasets, transforms\n",
    "from torch.utils.data import DataLoader, Dataset\n",
    "import syft as sy\n",
    "import copy\n",
    "import numpy as np\n",
    "\n",
    "import importlib\n",
    "importlib.import_module('FLDataset')\n",
    "from FLDataset import load_dataset, getActualImgs\n",
    "from utils import averageModels, averageGradients"
   ]
  },
  {
   "cell_type": "code",
   "execution_count": null,
   "id": "67a56113",
   "metadata": {},
   "outputs": [],
   "source": [
    "class Arguments():\n",
    "    def __init__(self):\n",
    "        self.images = 60000\n",
    "        self.clients = 50\n",
    "        self.rounds = 5\n",
    "        self.epochs = 5\n",
    "        self.local_batches = 1\n",
    "        self.lr = 0.01\n",
    "        self.C = 0.9\n",
    "        self.mu = 0.1\n",
    "        self.torch_seed = 0\n",
    "        self.log_interval = 10\n",
    "        self.iid = 'iid'\n",
    "        self.split_size = int(self.images / self.clients)\n",
    "        self.samples = self.split_size / self.images \n",
    "        self.use_cuda = False\n",
    "        self.save_model = False\n",
    "\n",
    "args = Arguments()\n",
    "\n",
    "use_cuda = args.use_cuda and torch.cuda.is_available()\n",
    "torch.manual_seed(1)\n",
    "device = torch.device(\"cuda\" if use_cuda else \"cpu\")\n",
    "kwargs = {'num_workers': 1, 'pin_memory': True} if use_cuda else {}"
   ]
  },
  {
   "cell_type": "code",
   "execution_count": null,
   "id": "8b3e89f2",
   "metadata": {},
   "outputs": [],
   "source": [
    "hook = sy.TorchHook(torch)\n",
    "clients = []\n",
    "\n",
    "for i in range(args.clients):\n",
    "    clients.append({'hook': sy.VirtualWorker(hook, id=\"client{}\".format(i+1))})"
   ]
  },
  {
   "cell_type": "code",
   "execution_count": null,
   "id": "0cca10f7",
   "metadata": {},
   "outputs": [],
   "source": [
    "# Download MNIST manually using 'wget' then uncompress the file\n",
    "!wget www.di.ens.fr/~lelarge/MNIST.tar.gz\n",
    "!tar -zxvf MNIST.tar.gz"
   ]
  },
  {
   "cell_type": "code",
   "execution_count": null,
   "id": "4d47fbd4",
   "metadata": {},
   "outputs": [],
   "source": [
    "globa_train, global_test, train_group, test_group = load_dataset(args.clients, args.iid)"
   ]
  },
  {
   "cell_type": "code",
   "execution_count": null,
   "id": "80e17fb8",
   "metadata": {},
   "outputs": [],
   "source": [
    "for inx, client in enumerate(clients):\n",
    "    trainset_ind_list = list(train_group[inx])\n",
    "    client['trainset'] = getActualImgs(globa_train, trainset_ind_list, args.local_batches)\n",
    "    client['testset'] = getActualImgs(global_test, list(test_group[inx]), args.local_batches)\n",
    "    client['samples'] = len(trainset_ind_list) / args.images"
   ]
  },
  {
   "cell_type": "code",
   "execution_count": null,
   "id": "838ef36c",
   "metadata": {},
   "outputs": [],
   "source": [
    "transform = transforms.Compose([transforms.ToTensor(), transforms.Normalize((0.1307,), (0.3081,))])\n",
    "global_test_dataset = datasets.MNIST('./', train=False, download=True, transform=transform)\n",
    "global_test_loader = DataLoader(global_test_dataset, batch_size=args.local_batches, shuffle=True)"
   ]
  },
  {
   "cell_type": "code",
   "execution_count": null,
   "id": "702c5555",
   "metadata": {},
   "outputs": [],
   "source": [
    "class Net(nn.Module):\n",
    "    def __init__(self):\n",
    "        super(Net, self).__init__()\n",
    "        self.conv1 = nn.Conv2d(1, 20, 5, 1)\n",
    "        self.conv2 = nn.Conv2d(20, 50, 5, 1)\n",
    "        self.fc1 = nn.Linear(4*4*50, 500)\n",
    "        self.fc2 = nn.Linear(500, 10)\n",
    "\n",
    "    def forward(self, x):\n",
    "        x = F.relu(self.conv1(x))\n",
    "        x = F.max_pool2d(x, 2, 2)\n",
    "        x = F.relu(self.conv2(x))\n",
    "        x = F.max_pool2d(x, 2, 2)\n",
    "        x = x.view(-1, 4*4*50)\n",
    "        x = F.relu(self.fc1(x))\n",
    "        x = self.fc2(x)\n",
    "        return F.log_softmax(x, dim=1)"
   ]
  },
  {
   "cell_type": "code",
   "execution_count": null,
   "id": "d95ea818",
   "metadata": {},
   "outputs": [],
   "source": [
    "def ClientUpdate(args, device, client, global_model):        \n",
    "    client['model'].train()\n",
    "    client['model'].send(client['hook'])\n",
    "    global_model.send(client['hook'])\n",
    "    \n",
    "    for epoch in range(1, args.epochs + 1):\n",
    "        for batch_idx, (data, target) in enumerate(client['trainset']):\n",
    "            data = data.send(client['hook'])\n",
    "            target = target.send(client['hook'])\n",
    "            \n",
    "            data, target = data.to(device), target.to(device)\n",
    "            client['optim'].zero_grad()\n",
    "            output = client['model'](data)\n",
    "            loss = F.nll_loss(output, target)\n",
    "            loss.backward()\n",
    "            \n",
    "            client['optim'].step(global_model)\n",
    "            \n",
    "            if batch_idx % args.log_interval == 0:\n",
    "                loss = loss.get() \n",
    "                print('Model {} Train Epoch: {} [{}/{} ({:.0f}%)]\\tLoss: {:.6f}'.format(\n",
    "                    client['hook'].id,\n",
    "                    epoch, batch_idx * args.local_batches, len(client['trainset']) * args.local_batches, \n",
    "                    100. * batch_idx / len(client['trainset']), loss.item()))\n",
    "    global_model.get()\n",
    "    client['model'].get() "
   ]
  },
  {
   "cell_type": "code",
   "execution_count": null,
   "id": "9b9bd460",
   "metadata": {},
   "outputs": [],
   "source": [
    "def test(args, model, device, test_loader, name):\n",
    "    model.eval()   \n",
    "    test_loss = 0\n",
    "    correct = 0\n",
    "    with torch.no_grad():\n",
    "        for data, target in test_loader:\n",
    "            data, target = data.to(device), target.to(device)\n",
    "            output = model(data)\n",
    "            test_loss += F.nll_loss(output, target, reduction='sum').item() # sum up batch loss\n",
    "            pred = output.argmax(1, keepdim=True) # get the index of the max log-probability \n",
    "            correct += pred.eq(target.view_as(pred)).sum().item()\n",
    "\n",
    "    test_loss /= len(test_loader.dataset)\n",
    "    print('\\nTest set: Average loss for {} model: {:.4f}, Accuracy: {}/{} ({:.0f}%)\\n'.format(\n",
    "        name, test_loss, correct, len(test_loader.dataset),\n",
    "        100. * correct / len(test_loader.dataset)))"
   ]
  },
  {
   "cell_type": "code",
   "execution_count": null,
   "id": "2f8ad6d0",
   "metadata": {},
   "outputs": [],
   "source": [
    "class FedDANEOptim(optim.Optimizer):\n",
    "    def __init__(self, params, lr=args.lr, mu=args.mu):\n",
    "        defaults = dict(lr=lr, mu=mu)\n",
    "        super(FedDANEOptim, self).__init__(params, defaults)\n",
    "    \n",
    "    def step(self, global_model=None, global_grads=None, fed_round=0, closure = None):\n",
    "        loss = None\n",
    "        if closure is not None:\n",
    "            loss = closure()\n",
    "        \n",
    "        for group in self.param_groups:\n",
    "            lr, mu = group['lr'], group['mu']\n",
    "            for p in zip(group['params'], list(global_model.parameters())):\n",
    "\n",
    "                if p[0].grad is None:\n",
    "                    continue\n",
    "                d_p = p[0].grad.data # local model grads\n",
    "                                \n",
    "                gold = p[1].grad.data.clone() - p[0].grad.data.clone()\n",
    "\n",
    "                p[0].data.sub_(group['lr'], (d_p + gold + mu * (p[0].data.clone() - p[1].data.clone())))\n",
    "\n",
    "        return loss"
   ]
  },
  {
   "cell_type": "code",
   "execution_count": null,
   "id": "df1ff8b0",
   "metadata": {
    "scrolled": false
   },
   "outputs": [],
   "source": [
    "torch.manual_seed(args.torch_seed)\n",
    "global_model = Net().to(device)\n",
    "\n",
    "for client in clients:\n",
    "    torch.manual_seed(args.torch_seed)\n",
    "    client['model'] = Net().to(device)\n",
    "    client['optim'] = FedDANEOptim(client['model'].parameters(), lr=args.lr, mu=args.mu)\n",
    "\n",
    "for fed_round in range(args.rounds):\n",
    "    \n",
    "#     uncomment if you want a randome fraction for C every round\n",
    "#     args.C = float(format(np.random.random(), '.1f'))\n",
    "    \n",
    "    # number of selected clients\n",
    "    m = max(args.C * args.clients, 1)\n",
    "    \n",
    "    # Selected devices\n",
    "    np.random.seed(fed_round)\n",
    "    selected_clients_inds = np.random.choice(range(len(clients)), int(m), replace=False)\n",
    "    selected_clients = [clients[i] for i in selected_clients_inds]\n",
    "    \n",
    "    #avg grads\n",
    "    if fed_round > 0:\n",
    "        global_model = averageGradients(global_model, selected_clients)\n",
    "    \n",
    "    # Another set of devices for updating\n",
    "    np.random.seed(fed_round+1)\n",
    "    sprime_clients_inds = np.random.choice(range(len(clients)), int(m), replace=False)\n",
    "    sprime_clients = [clients[i] for i in sprime_clients_inds]\n",
    "    \n",
    "    # Training \n",
    "    for client in sprime_clients:\n",
    "        ClientUpdate(args, device, client, global_model)\n",
    "        \n",
    "    # Avg\n",
    "    global_model = averageModels(global_model, selected_clients)\n",
    "    \n",
    "    test(args, global_model, device, global_test_loader, 'Global')\n",
    "    \n",
    "    for client in clients:\n",
    "        client['model'].load_state_dict(global_model.state_dict())\n",
    "    \n",
    "if (args.save_model):\n",
    "    torch.save(global_model.state_dict(), \"FedDANE.pt\")"
   ]
  },
  {
   "cell_type": "code",
   "execution_count": null,
   "id": "fc36099c",
   "metadata": {},
   "outputs": [],
   "source": []
  },
  {
   "cell_type": "code",
   "execution_count": null,
   "id": "ed8582fc",
   "metadata": {},
   "outputs": [],
   "source": []
  }
 ],
 "metadata": {
  "kernelspec": {
   "display_name": "Python 3",
   "language": "python",
   "name": "python3"
  },
  "language_info": {
   "codemirror_mode": {
    "name": "ipython",
    "version": 3
   },
   "file_extension": ".py",
   "mimetype": "text/x-python",
   "name": "python",
   "nbconvert_exporter": "python",
   "pygments_lexer": "ipython3",
   "version": "3.7.10"
  }
 },
 "nbformat": 4,
 "nbformat_minor": 5
}
