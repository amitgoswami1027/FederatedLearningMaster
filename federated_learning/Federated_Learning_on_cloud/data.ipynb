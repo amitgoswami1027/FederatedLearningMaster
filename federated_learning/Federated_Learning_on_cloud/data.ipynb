{
 "cells": [
  {
   "cell_type": "code",
   "execution_count": null,
   "id": "bigger-hostel",
   "metadata": {},
   "outputs": [],
   "source": [
    "import syft as sy\n",
    "duet = sy.launch_duet()\n",
    "sy.logger.add(sink=\"./syft_do.log\")"
   ]
  },
  {
   "cell_type": "code",
   "execution_count": null,
   "id": "blind-weekend",
   "metadata": {},
   "outputs": [],
   "source": [
    "duet.requests.add_handler(\n",
    "    name=\"cuda_is_available\",\n",
    "    action=\"accept\"\n",
    ")\n",
    "\n",
    "duet.requests.add_handler(\n",
    "    name=\"loss\",\n",
    "    action=\"deny\",\n",
    "    timeout_secs=-1,  # no timeout\n",
    "    print_local=True  # print the result in your notebook\n",
    ")\n",
    "\n",
    "duet.requests.add_handler(\n",
    "    name=\"train_size\",\n",
    "    action=\"accept\"\n",
    ")\n",
    "\n",
    "duet.requests.add_handler(\n",
    "    name=\"inference\",\n",
    "    action=\"accept\"\n",
    ")\n",
    "\n",
    "duet.requests.add_handler(\n",
    "    name=\"model_download\",\n",
    "    action=\"accept\"\n",
    ")"
   ]
  },
  {
   "cell_type": "code",
   "execution_count": null,
   "id": "liable-proposal",
   "metadata": {},
   "outputs": [],
   "source": []
  }
 ],
 "metadata": {
  "kernelspec": {
   "display_name": "Python 3",
   "language": "python",
   "name": "python3"
  },
  "language_info": {
   "codemirror_mode": {
    "name": "ipython",
    "version": 3
   },
   "file_extension": ".py",
   "mimetype": "text/x-python",
   "name": "python",
   "nbconvert_exporter": "python",
   "pygments_lexer": "ipython3",
   "version": "3.7.9"
  }
 },
 "nbformat": 4,
 "nbformat_minor": 5
}
